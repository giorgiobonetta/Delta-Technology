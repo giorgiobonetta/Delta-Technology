{
  "nbformat": 4,
  "nbformat_minor": 0,
  "metadata": {
    "colab": {
      "provenance": [],
      "authorship_tag": "ABX9TyNg9zhKVshDIUie+I11FJOK",
      "include_colab_link": true
    },
    "kernelspec": {
      "name": "python3",
      "display_name": "Python 3"
    },
    "language_info": {
      "name": "python"
    }
  },
  "cells": [
    {
      "cell_type": "markdown",
      "metadata": {
        "id": "view-in-github",
        "colab_type": "text"
      },
      "source": [
        "<a href=\"https://colab.research.google.com/github/giorgiobonetta/Delta-Technology/blob/main/BlackScholes.ipynb\" target=\"_parent\"><img src=\"https://colab.research.google.com/assets/colab-badge.svg\" alt=\"Open In Colab\"/></a>"
      ]
    },
    {
      "cell_type": "code",
      "source": [
        "import math\n",
        "from scipy.stats import norm"
      ],
      "metadata": {
        "id": "N3RXalu0lnb-"
      },
      "execution_count": 1,
      "outputs": []
    },
    {
      "cell_type": "code",
      "source": [
        "S = 42\n",
        "K = 40\n",
        "T = 0.5\n",
        "r = 0.1\n",
        "vol = 0.2"
      ],
      "metadata": {
        "id": "4kNtTfNrlwK5"
      },
      "execution_count": 2,
      "outputs": []
    },
    {
      "cell_type": "code",
      "source": [
        "d1 = (math.log(S/K) +r+0.5*vol**2)*T/(vol * math.sqrt(T))\n",
        "d2 = d1 - (vol*math.sqrt(T))"
      ],
      "metadata": {
        "id": "yXep1-nSmrAv"
      },
      "execution_count": 4,
      "outputs": []
    },
    {
      "cell_type": "code",
      "source": [
        "C = S*norm.cdf(d1) - K * math.exp(-r*T)*norm.cdf(d2)"
      ],
      "metadata": {
        "id": "7T-1Nu-rnL5b"
      },
      "execution_count": 5,
      "outputs": []
    },
    {
      "cell_type": "code",
      "source": [
        "P = K*math.exp(-r*T)*norm.cdf(-d2)-S*norm.cdf(-d1)"
      ],
      "metadata": {
        "id": "9iidIvhjntlT"
      },
      "execution_count": 6,
      "outputs": []
    },
    {
      "cell_type": "code",
      "source": [
        "print('The value of d1 is: ', round(d1,4))\n",
        "print('The value of d2 is: ', round(d2,4))\n",
        "print('The price of the call option is: $', round(C,2))\n",
        "print('The price of the put option is: $', round(P,2))"
      ],
      "metadata": {
        "colab": {
          "base_uri": "https://localhost:8080/"
        },
        "id": "6LdTaZV2oOLs",
        "outputId": "de0f3d21-eabd-4648-a68c-8ea51ed30f2d"
      },
      "execution_count": 7,
      "outputs": [
        {
          "output_type": "stream",
          "name": "stdout",
          "text": [
            "The value of d1 is:  0.5968\n",
            "The value of d2 is:  0.4553\n",
            "The price of the call option is: $ 4.73\n",
            "The price of the put option is: $ 0.78\n"
          ]
        }
      ]
    }
  ]
}