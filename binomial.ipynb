{
  "nbformat": 4,
  "nbformat_minor": 0,
  "metadata": {
    "colab": {
      "provenance": [],
      "authorship_tag": "ABX9TyM4fTOS7Ilcacq1TXGzx400",
      "include_colab_link": true
    },
    "kernelspec": {
      "name": "python3",
      "display_name": "Python 3"
    },
    "language_info": {
      "name": "python"
    }
  },
  "cells": [
    {
      "cell_type": "markdown",
      "metadata": {
        "id": "view-in-github",
        "colab_type": "text"
      },
      "source": [
        "<a href=\"https://colab.research.google.com/github/giorgiobonetta/Delta-Technology/blob/option-pricing/binomial.ipynb\" target=\"_parent\"><img src=\"https://colab.research.google.com/assets/colab-badge.svg\" alt=\"Open In Colab\"/></a>"
      ]
    },
    {
      "cell_type": "code",
      "execution_count": null,
      "metadata": {
        "id": "yWsXDuDIM70-"
      },
      "outputs": [],
      "source": [
        "import numpy as np\n",
        "\n",
        "def binomial_option_pricing(S0, K, T, r, sigma, n_steps):\n",
        "    dt = T / n_steps\n",
        "    u = np.exp(sigma * np.sqrt(dt))\n",
        "    d = 1 / u\n",
        "    p = (np.exp(r * dt) - d) / (u - d)\n",
        "\n",
        "    # Option Pricing\n",
        "    stock_prices = np.zeros(n_steps + 1)\n",
        "    stock_prices[0] = S0 * d**n_steps\n",
        "    for i in range(1, n_steps + 1):\n",
        "        stock_prices[i] = stock_prices[i - 1] * u / d\n",
        "\n",
        "    # Expiration Payoff\n",
        "    option_values = np.maximum(0, stock_prices - K)\n",
        "\n",
        "    # Sconto dei valori dell'opzione indietro nel tempo\n",
        "    for i in range(n_steps - 1, -1, -1):\n",
        "        for j in range(i + 1):\n",
        "            option_values[j] = (p * option_values[j + 1] + (1 - p) * option_values[j]) * np.exp(-r * dt)\n",
        "\n",
        "    return option_values[0]\n",
        "\n",
        "# Data\n",
        "S0 = 100  # Underlying Starting price\n",
        "K = 100   # Strike Price\n",
        "T = 1     # Expriration time\n",
        "r = 0.05  # risk-free rate\n",
        "sigma = 0.2  # Volatility\n",
        "n_steps = 100  # step\n",
        "\n",
        "binomial_price = binomial_option_pricing(S0, K, T, r, sigma, n_steps)\n",
        "print(f\"Binomial Option Price: {binomial_price}\")"
      ]
    }
  ]
}