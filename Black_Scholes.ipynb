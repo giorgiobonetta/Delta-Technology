{
  "nbformat": 4,
  "nbformat_minor": 0,
  "metadata": {
    "colab": {
      "provenance": [],
      "authorship_tag": "ABX9TyM/nI+Gowy7gvsPgISA43Zw",
      "include_colab_link": true
    },
    "kernelspec": {
      "name": "python3",
      "display_name": "Python 3"
    },
    "language_info": {
      "name": "python"
    }
  },
  "cells": [
    {
      "cell_type": "markdown",
      "metadata": {
        "id": "view-in-github",
        "colab_type": "text"
      },
      "source": [
        "<a href=\"https://colab.research.google.com/github/giorgiobonetta/Delta-Technology/blob/main/Black_Scholes.ipynb\" target=\"_parent\"><img src=\"https://colab.research.google.com/assets/colab-badge.svg\" alt=\"Open In Colab\"/></a>"
      ]
    },
    {
      "cell_type": "code",
      "execution_count": 1,
      "metadata": {
        "colab": {
          "base_uri": "https://localhost:8080/"
        },
        "id": "YkOaHEssIBbC",
        "outputId": "7247fd60-6730-4e6d-ba89-0d27b8c3bade"
      },
      "outputs": [
        {
          "output_type": "stream",
          "name": "stdout",
          "text": [
            "Black-Scholes Option Price: 10.450583572185565\n"
          ]
        }
      ],
      "source": [
        "from scipy.stats import norm\n",
        "import numpy as np\n",
        "\n",
        "def black_scholes_option_pricing(S0, K, T, r, sigma):\n",
        "    d1 = (np.log(S0 / K) + (r + 0.5 * sigma ** 2) * T) / (sigma * np.sqrt(T))\n",
        "    d2 = d1 - sigma * np.sqrt(T)\n",
        "\n",
        "    call_price = S0 * norm.cdf(d1) - K * np.exp(-r * T) * norm.cdf(d2)\n",
        "\n",
        "    return call_price\n",
        "\n",
        "# Data\n",
        "S0 = 100  # Underlying starting price\n",
        "K = 100   # Strike Price\n",
        "T = 1     # Expiration Time\n",
        "r = 0.05  # risk-free rate\n",
        "sigma = 0.2  # Volatility\n",
        "\n",
        "bs_price = black_scholes_option_pricing(S0, K, T, r, sigma)\n",
        "print(f\"Black-Scholes Option Price: {bs_price}\")"
      ]
    }
  ]
}